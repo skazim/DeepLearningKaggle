{
 "cells": [
  {
   "cell_type": "code",
   "execution_count": 4,
   "metadata": {
    "collapsed": false
   },
   "outputs": [
    {
     "name": "stdout",
     "output_type": "stream",
     "text": [
      "Deeplearning.ipynb\n",
      "Sign-Language-Digits-Dataset\n",
      "\n"
     ]
    }
   ],
   "source": [
    "import numpy as np \n",
    "import pandas as pd \n",
    "import matplotlib.pyplot as plt \n",
    "import warnings\n",
    "\n",
    "warnings.filterwarnings('ignore')\n",
    "from subprocess import check_output\n",
    "print(check_output([\"ls\", \"./\"]).decode(\"utf8\"))"
   ]
  },
  {
   "cell_type": "code",
   "execution_count": 5,
   "metadata": {
    "collapsed": false
   },
   "outputs": [
    {
     "data": {
      "text/plain": [
       "(-0.5, 63.5, 63.5, -0.5)"
      ]
     },
     "execution_count": 5,
     "metadata": {},
     "output_type": "execute_result"
    }
   ],
   "source": [
    "x_l = np.load('Sign-Language-Digits-Dataset/X.npy')\n",
    "Y_l = np.load('Sign-Language-Digits-Dataset/Y.npy')\n",
    "img_size = 64\n",
    "plt.subplot(1, 2, 1)\n",
    "plt.imshow(x_l[260].reshape(img_size, img_size))\n",
    "plt.axis('off')\n",
    "plt.subplot(1, 2, 2)\n",
    "plt.imshow(x_l[900].reshape(img_size, img_size))\n",
    "plt.axis('off')\n"
   ]
  },
  {
   "cell_type": "code",
   "execution_count": 6,
   "metadata": {
    "collapsed": false
   },
   "outputs": [
    {
     "name": "stdout",
     "output_type": "stream",
     "text": [
      "(410, 64, 64)\n",
      "(410, 1)\n"
     ]
    }
   ],
   "source": [
    "X = np.concatenate((x_l[204:409] , x_l[822:1027]),axis= 0)\n",
    "z= np.zeros(205)\n",
    "o= np.ones(205)\n",
    "\n",
    "Y= np.concatenate((z,o),axis=0).reshape(X.shape[0],1)\n",
    "\n",
    "print(X.shape)\n",
    "print(Y.shape)"
   ]
  },
  {
   "cell_type": "code",
   "execution_count": 13,
   "metadata": {
    "collapsed": false
   },
   "outputs": [
    {
     "name": "stdout",
     "output_type": "stream",
     "text": [
      "(348, 4096) (62, 4096)\n"
     ]
    }
   ],
   "source": [
    "from sklearn.model_selection import train_test_split\n",
    "X_train, X_test, Y_train, Y_test= train_test_split(X,Y,test_size= 0.15, random_state=42)\n",
    "number_of_train= X_train.shape[0]\n",
    "number_of_test= X_test.shape[0]\n",
    "\n",
    "X_train_flatten= X_train.reshape(number_of_train,X_train.shape[1]*X_train.shape[2])\n",
    "X_test_flatten= X_test.reshape(number_of_test,X_test.shape[1]*X_test.shape[2])\n",
    "\n",
    "print(X_train_flatten.shape,X_test_flatten.shape)\n"
   ]
  },
  {
   "cell_type": "code",
   "execution_count": 17,
   "metadata": {
    "collapsed": false
   },
   "outputs": [
    {
     "name": "stdout",
     "output_type": "stream",
     "text": [
      "(4096, 348) (4096, 62) (1, 348) (1, 62)\n"
     ]
    }
   ],
   "source": [
    "x_train = X_train_flatten.T\n",
    "x_test = X_test_flatten.T\n",
    "y_train= Y_train.T\n",
    "y_test= Y_test.T\n",
    "\n",
    "print(x_train.shape,x_test.shape,y_train.shape,y_test.shape)"
   ]
  },
  {
   "cell_type": "code",
   "execution_count": 52,
   "metadata": {
    "collapsed": false
   },
   "outputs": [
    {
     "name": "stdout",
     "output_type": "stream",
     "text": [
      "Cost after iterations 0: 14.014222\n",
      "Cost after iterations 10: 2.540731\n",
      "Cost after iterations 20: 2.575687\n",
      "Cost after iterations 30: 2.395910\n",
      "Cost after iterations 40: 2.182853\n",
      "Cost after iterations 50: 1.965959\n",
      "Cost after iterations 60: 1.751413\n",
      "Cost after iterations 70: 1.531586\n",
      "Cost after iterations 80: 1.292657\n",
      "Cost after iterations 90: 1.023871\n",
      "Cost after iterations 100: 0.720891\n",
      "Cost after iterations 110: 0.400508\n",
      "Cost after iterations 120: 0.146989\n",
      "Cost after iterations 130: 0.033509\n",
      "Cost after iterations 140: 0.000998\n"
     ]
    },
    {
     "data": {
      "image/png": "[encoded data removed]",
      "text/plain": [
       "<matplotlib.figure.Figure at 0x7fc79cb6f7f0>"
      ]
     },
     "metadata": {},
     "output_type": "display_data"
    },
    {
     "name": "stdout",
     "output_type": "stream",
     "text": [
      "train accuracy: 92.816091954023 %\n",
      "test accuracy: 93.54838709677419 %\n"
     ]
    }
   ],
   "source": [
    "def dummy(parameter):\n",
    "    dummy_parameter= parameter+ 5\n",
    "    return dummy_parameter\n",
    "\n",
    "\n",
    "def initialize_weights_bias_dimension(dimension):\n",
    "    w= np.full((dimension,1),0.01)\n",
    "    b= 0.0\n",
    "    return w,b\n",
    "\n",
    "def sigmoid(z):\n",
    "    y_head= 1/(1+ np.exp(-z))\n",
    "    return y_head\n",
    "\n",
    "def forward_propagation(w,b,x_train,y_train):\n",
    "    z= np.dot(w.T,x_train) + b\n",
    "    y_head= sigmoid(z)\n",
    "    # -(1-y) log(1-yhead) + y log(yhead)\n",
    "    loss= y_train*np.log(y_head)-(1-y_train)*np.log(1-y_head)\n",
    "    cost= (np.sum(loss))/x_train.shape[1]\n",
    "    derivative_weight= (np.dot(x_train,((y_head-y_train).T)))/x_train.shape[1]\n",
    "    derivative_bias= np.sum(y_head-y_train)/x_train.shape[1]\n",
    "    \n",
    "    gradients = {\"derivative_weight\": derivative_weight, \"derivative_bias\" : derivative_bias}\n",
    "    \n",
    "    return cost,gradients\n",
    "\n",
    "def update_weights(w,b,x_train,y_train,learning_rate,number_of_iterations):\n",
    "    cost_list= []\n",
    "    cost_list2= []\n",
    "    index=[]\n",
    "    for i in range(number_of_iterations):\n",
    "        cost,gradients= forward_propagation(w,b,x_train,y_train)\n",
    "        cost_list.append(cost)\n",
    "        w = w -learning_rate * (gradients[\"derivative_weight\"])\n",
    "        b= b- learning_rate * (gradients[\"derivative_bias\"])\n",
    "        \n",
    "        if i % 10 == 0:\n",
    "            cost_list2.append(cost)\n",
    "            index.append(i)\n",
    "            print (\"Cost after iterations %i: %f\" %(i,cost))\n",
    "    parameters= {\"weight\" : w , \"bias\" : b}\n",
    "    plt.plot(index,cost_list2)\n",
    "    plt.xticks(index, rotation='vertical')\n",
    "    plt.xlabel(\"Number of iterations\")\n",
    "    plt.ylabel(\"Cost\")\n",
    "    plt.show()\n",
    "        \n",
    "    return parameters,gradients, cost_list\n",
    "            \n",
    "def predict(w,b,x_test):\n",
    "    # x_test is a input for forward propagation\n",
    "    z = sigmoid(np.dot(w.T,x_test)+b)\n",
    "    Y_prediction = np.zeros((1,x_test.shape[1]))\n",
    "    # if z is bigger than 0.5, our prediction is sign one (y_head=1),\n",
    "    # if z is smaller than 0.5, our prediction is sign zero (y_head=0),\n",
    "    for i in range(z.shape[1]):\n",
    "        if z[0,i]<= 0.5:\n",
    "            Y_prediction[0,i] = 0\n",
    "        else:\n",
    "            Y_prediction[0,i] = 1\n",
    "\n",
    "    return Y_prediction\n",
    "\n",
    "def logistic_regression(x_train, y_train, x_test, y_test, learning_rate ,  num_iterations):\n",
    "    # initialize\n",
    "    dimension =  x_train.shape[0]  # that is 4096\n",
    "    w,b = initialize_weights_bias_dimension(dimension)\n",
    "    # do not change learning rate\n",
    "    parameters, gradients, cost_list = update_weights(w, b, x_train, y_train, learning_rate,num_iterations)\n",
    "    \n",
    "    y_prediction_test = predict(parameters[\"weight\"],parameters[\"bias\"],x_test)\n",
    "    y_prediction_train = predict(parameters[\"weight\"],parameters[\"bias\"],x_train)\n",
    "\n",
    "    # Print train/test Errors\n",
    "    print(\"train accuracy: {} %\".format(100 - np.mean(np.abs(y_prediction_train - y_train)) * 100))\n",
    "    print(\"test accuracy: {} %\".format(100 - np.mean(np.abs(y_prediction_test - y_test)) * 100))\n",
    "    \n",
    "logistic_regression(x_train, y_train, x_test, y_test,learning_rate = 0.01, num_iterations = 150)"
   ]
  },
  {
   "cell_type": "code",
   "execution_count": 58,
   "metadata": {
    "collapsed": false
   },
   "outputs": [
    {
     "name": "stdout",
     "output_type": "stream",
     "text": [
      "test accuracy: 0.967741935483871 \n",
      "train accuracy: 1.0 \n"
     ]
    }
   ],
   "source": [
    "from sklearn import linear_model\n",
    "logistic_regression = linear_model.LogisticRegression(random_state= 42, max_iter= 150)\n",
    "print (\"test accuracy: {} \" .format(logistic_regression.fit(x_train.T, y_train.T).score(x_test.T,y_test.T)))\n",
    "print (\"train accuracy: {} \" .format(logistic_regression.fit(x_train.T, y_train.T).score(x_train.T,y_train.T)))\n",
    "\n"
   ]
  },
  {
   "cell_type": "code",
   "execution_count": null,
   "metadata": {
    "collapsed": true
   },
   "outputs": [],
   "source": []
  }
 ],
 "metadata": {
  "anaconda-cloud": {},
  "kernelspec": {
   "display_name": "Python [default]",
   "language": "python",
   "name": "python3"
  },
  "language_info": {
   "codemirror_mode": {
    "name": "ipython",
    "version": 3
   },
   "file_extension": ".py",
   "mimetype": "text/x-python",
   "name": "python",
   "nbconvert_exporter": "python",
   "pygments_lexer": "ipython3",
   "version": "3.5.2"
  }
 },
 "nbformat": 4,
 "nbformat_minor": 1
}
