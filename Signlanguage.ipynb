{
 "cells": [
  {
   "cell_type": "code",
   "execution_count": 5,
   "metadata": {
    "collapsed": false
   },
   "outputs": [
    {
     "name": "stdout",
     "output_type": "stream",
     "text": [
      "Deeplearning.ipynb\n",
      "Sign-Language-Digits-Dataset\n",
      "Signlanguage.ipynb\n",
      "\n"
     ]
    }
   ],
   "source": [
    "import numpy as np\n",
    "import pandas as pd\n",
    "import matplotlib.pyplot as plt\n",
    "import warnings\n",
    "warnings.filterwarnings('ignore')\n",
    "from subprocess import check_output\n",
    "print (check_output([\"ls\",\"./\"]).decode(\"utf-8\"))"
   ]
  },
  {
   "cell_type": "code",
   "execution_count": 9,
   "metadata": {
    "collapsed": false
   },
   "outputs": [
    {
     "data": {
      "text/plain": [
       "(-0.5, 63.5, 63.5, -0.5)"
      ]
     },
     "execution_count": 9,
     "metadata": {},
     "output_type": "execute_result"
    }
   ],
   "source": [
    "x_l= np.load('./Sign-Language-Digits-Dataset/X.npy')\n",
    "y_l= np.load('./Sign-Language-Digits-Dataset/Y.npy')\n",
    "img_size= 64\n",
    "plt.subplot(1,2,1)\n",
    "plt.imshow(x_l[260].reshape(img_size,img_size))\n",
    "plt.axis('off')\n",
    "plt.subplot(1,2,2)\n",
    "plt.imshow(x_l[900].reshape(img_size,img_size))\n",
    "plt.axis('off')"
   ]
  },
  {
   "cell_type": "code",
   "execution_count": 15,
   "metadata": {
    "collapsed": false
   },
   "outputs": [
    {
     "name": "stdout",
     "output_type": "stream",
     "text": [
      "(410, 64, 64) (410, 1)\n"
     ]
    }
   ],
   "source": [
    "X = np.concatenate((x_l[204:409], x_l[822:1027]),axis=0)\n",
    "z= np.zeros(205)\n",
    "o= np.ones(205)\n",
    "Y = np.concatenate((z,o),axis=0).reshape(X.shape[0],1)\n",
    "\n",
    "print(X.shape,Y.shape)\n",
    "\n",
    "#The shape of the X is (410, 64, 64)\n",
    "#410 means that we have 410 images (zero and one signs)\n",
    "#64 means that our image size is 64x64 (64x64 pixels)\n",
    "#The shape of the Y is (410,1)\n",
    "#410 means that we have 410 labels (0 and 1)"
   ]
  },
  {
   "cell_type": "code",
   "execution_count": null,
   "metadata": {
    "collapsed": true
   },
   "outputs": [],
   "source": []
  }
 ],
 "metadata": {
  "anaconda-cloud": {},
  "kernelspec": {
   "display_name": "Python [default]",
   "language": "python",
   "name": "python3"
  },
  "language_info": {
   "codemirror_mode": {
    "name": "ipython",
    "version": 3
   },
   "file_extension": ".py",
   "mimetype": "text/x-python",
   "name": "python",
   "nbconvert_exporter": "python",
   "pygments_lexer": "ipython3",
   "version": "3.5.2"
  }
 },
 "nbformat": 4,
 "nbformat_minor": 2
}
